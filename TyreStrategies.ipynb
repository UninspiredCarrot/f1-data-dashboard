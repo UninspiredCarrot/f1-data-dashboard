{
 "cells": [
  {
   "cell_type": "code",
   "execution_count": 1,
   "id": "eac14a21-f648-4950-b6d5-5119bb67ba2e",
   "metadata": {},
   "outputs": [],
   "source": [
    "from matplotlib import pyplot as plt\n",
    "\n",
    "import fastf1\n",
    "import fastf1.plotting"
   ]
  },
  {
   "cell_type": "code",
   "execution_count": 2,
   "id": "6267739c-4532-478f-8fcf-a48675fed570",
   "metadata": {},
   "outputs": [
    {
     "name": "stderr",
     "output_type": "stream",
     "text": [
      "req         WARNING \tDEFAULT CACHE ENABLED! (24.0 KB) /Users/bolt/Library/Caches/fastf1\n",
      "core           INFO \tLoading data for Japanese Grand Prix - Race [v3.4.0]\n",
      "req            INFO \tNo cached data found for session_info. Loading data...\n",
      "_api           INFO \tFetching session info data...\n",
      "req            INFO \tData has been written to cache!\n",
      "req            INFO \tNo cached data found for driver_info. Loading data...\n",
      "_api           INFO \tFetching driver list...\n",
      "req            INFO \tData has been written to cache!\n",
      "req            INFO \tNo cached data found for session_status_data. Loading data...\n",
      "_api           INFO \tFetching session status data...\n",
      "req            INFO \tData has been written to cache!\n",
      "req            INFO \tNo cached data found for lap_count. Loading data...\n",
      "_api           INFO \tFetching lap count data...\n",
      "req            INFO \tData has been written to cache!\n",
      "req            INFO \tNo cached data found for track_status_data. Loading data...\n",
      "_api           INFO \tFetching track status data...\n",
      "req            INFO \tData has been written to cache!\n",
      "req            INFO \tNo cached data found for _extended_timing_data. Loading data...\n",
      "_api           INFO \tFetching timing data...\n",
      "_api           INFO \tParsing timing data...\n",
      "req            INFO \tData has been written to cache!\n",
      "req            INFO \tNo cached data found for timing_app_data. Loading data...\n",
      "_api           INFO \tFetching timing app data...\n",
      "req            INFO \tData has been written to cache!\n",
      "core           INFO \tProcessing timing data...\n",
      "req            INFO \tNo cached data found for car_data. Loading data...\n",
      "_api           INFO \tFetching car data...\n",
      "_api           INFO \tParsing car data...\n",
      "req            INFO \tData has been written to cache!\n",
      "req            INFO \tNo cached data found for position_data. Loading data...\n",
      "_api           INFO \tFetching position data...\n",
      "_api           INFO \tParsing position data...\n",
      "req            INFO \tData has been written to cache!\n",
      "req            INFO \tNo cached data found for weather_data. Loading data...\n",
      "_api           INFO \tFetching weather data...\n",
      "req            INFO \tData has been written to cache!\n",
      "req            INFO \tNo cached data found for race_control_messages. Loading data...\n",
      "_api           INFO \tFetching race control messages...\n",
      "req            INFO \tData has been written to cache!\n",
      "core           INFO \tFinished loading data for 20 drivers: ['1', '11', '55', '16', '4', '14', '63', '81', '44', '22', '27', '18', '20', '77', '31', '10', '2', '24', '3', '23']\n"
     ]
    }
   ],
   "source": [
    "session = fastf1.get_session(2024, \"Suzuka\", 'R')\n",
    "session.load()\n",
    "laps = session.laps"
   ]
  },
  {
   "cell_type": "code",
   "execution_count": 13,
   "id": "01c217e1-d53c-4bfd-809c-20434fb31518",
   "metadata": {},
   "outputs": [
    {
     "data": {
      "text/plain": [
       "['1',\n",
       " '11',\n",
       " '55',\n",
       " '16',\n",
       " '4',\n",
       " '14',\n",
       " '63',\n",
       " '81',\n",
       " '44',\n",
       " '22',\n",
       " '27',\n",
       " '18',\n",
       " '20',\n",
       " '77',\n",
       " '31',\n",
       " '10',\n",
       " '2',\n",
       " '24',\n",
       " '3',\n",
       " '23']"
      ]
     },
     "execution_count": 13,
     "metadata": {},
     "output_type": "execute_result"
    }
   ],
   "source": [
    "drivers = session.drivers\n",
    "drivers"
   ]
  },
  {
   "cell_type": "code",
   "execution_count": 14,
   "id": "a4f6c358-3a1a-4d14-9b07-4d54ba6da631",
   "metadata": {},
   "outputs": [
    {
     "data": {
      "text/plain": [
       "['VER',\n",
       " 'PER',\n",
       " 'SAI',\n",
       " 'LEC',\n",
       " 'NOR',\n",
       " 'ALO',\n",
       " 'RUS',\n",
       " 'PIA',\n",
       " 'HAM',\n",
       " 'TSU',\n",
       " 'HUL',\n",
       " 'STR',\n",
       " 'MAG',\n",
       " 'BOT',\n",
       " 'OCO',\n",
       " 'GAS',\n",
       " 'SAR',\n",
       " 'ZHO',\n",
       " 'RIC',\n",
       " 'ALB']"
      ]
     },
     "execution_count": 14,
     "metadata": {},
     "output_type": "execute_result"
    }
   ],
   "source": [
    "drivers = [session.get_driver(driver)[\"Abbreviation\"] for driver in drivers]\n",
    "drivers"
   ]
  },
  {
   "cell_type": "code",
   "execution_count": 15,
   "id": "02c0b44a-4dce-432a-825c-7b26f2ed60eb",
   "metadata": {},
   "outputs": [],
   "source": [
    "stints = laps[[\"Driver\", \"Stint\", \"Compound\", \"LapNumber\"]]\n",
    "stints = stints.groupby([\"Driver\", \"Stint\", \"Compound\"])\n",
    "stints = stints.count().reset_index()"
   ]
  },
  {
   "cell_type": "code",
   "execution_count": 16,
   "id": "6022e4bd-920b-4876-9c80-a85d2ec077f4",
   "metadata": {},
   "outputs": [
    {
     "data": {
      "text/html": [
       "<div>\n",
       "<style scoped>\n",
       "    .dataframe tbody tr th:only-of-type {\n",
       "        vertical-align: middle;\n",
       "    }\n",
       "\n",
       "    .dataframe tbody tr th {\n",
       "        vertical-align: top;\n",
       "    }\n",
       "\n",
       "    .dataframe thead th {\n",
       "        text-align: right;\n",
       "    }\n",
       "</style>\n",
       "<table border=\"1\" class=\"dataframe\">\n",
       "  <thead>\n",
       "    <tr style=\"text-align: right;\">\n",
       "      <th></th>\n",
       "      <th>Driver</th>\n",
       "      <th>Stint</th>\n",
       "      <th>Compound</th>\n",
       "      <th>StintLength</th>\n",
       "    </tr>\n",
       "  </thead>\n",
       "  <tbody>\n",
       "    <tr>\n",
       "      <th>0</th>\n",
       "      <td>ALB</td>\n",
       "      <td>1.0</td>\n",
       "      <td>SOFT</td>\n",
       "      <td>1</td>\n",
       "    </tr>\n",
       "    <tr>\n",
       "      <th>1</th>\n",
       "      <td>ALO</td>\n",
       "      <td>1.0</td>\n",
       "      <td>SOFT</td>\n",
       "      <td>1</td>\n",
       "    </tr>\n",
       "    <tr>\n",
       "      <th>2</th>\n",
       "      <td>ALO</td>\n",
       "      <td>2.0</td>\n",
       "      <td>SOFT</td>\n",
       "      <td>12</td>\n",
       "    </tr>\n",
       "    <tr>\n",
       "      <th>3</th>\n",
       "      <td>ALO</td>\n",
       "      <td>3.0</td>\n",
       "      <td>MEDIUM</td>\n",
       "      <td>20</td>\n",
       "    </tr>\n",
       "    <tr>\n",
       "      <th>4</th>\n",
       "      <td>ALO</td>\n",
       "      <td>4.0</td>\n",
       "      <td>HARD</td>\n",
       "      <td>20</td>\n",
       "    </tr>\n",
       "    <tr>\n",
       "      <th>...</th>\n",
       "      <td>...</td>\n",
       "      <td>...</td>\n",
       "      <td>...</td>\n",
       "      <td>...</td>\n",
       "    </tr>\n",
       "    <tr>\n",
       "      <th>69</th>\n",
       "      <td>VER</td>\n",
       "      <td>4.0</td>\n",
       "      <td>HARD</td>\n",
       "      <td>19</td>\n",
       "    </tr>\n",
       "    <tr>\n",
       "      <th>70</th>\n",
       "      <td>ZHO</td>\n",
       "      <td>1.0</td>\n",
       "      <td>MEDIUM</td>\n",
       "      <td>1</td>\n",
       "    </tr>\n",
       "    <tr>\n",
       "      <th>71</th>\n",
       "      <td>ZHO</td>\n",
       "      <td>2.0</td>\n",
       "      <td>SOFT</td>\n",
       "      <td>6</td>\n",
       "    </tr>\n",
       "    <tr>\n",
       "      <th>72</th>\n",
       "      <td>ZHO</td>\n",
       "      <td>3.0</td>\n",
       "      <td>HARD</td>\n",
       "      <td>4</td>\n",
       "    </tr>\n",
       "    <tr>\n",
       "      <th>73</th>\n",
       "      <td>ZHO</td>\n",
       "      <td>4.0</td>\n",
       "      <td>HARD</td>\n",
       "      <td>1</td>\n",
       "    </tr>\n",
       "  </tbody>\n",
       "</table>\n",
       "<p>74 rows × 4 columns</p>\n",
       "</div>"
      ],
      "text/plain": [
       "   Driver  Stint Compound  StintLength\n",
       "0     ALB    1.0     SOFT            1\n",
       "1     ALO    1.0     SOFT            1\n",
       "2     ALO    2.0     SOFT           12\n",
       "3     ALO    3.0   MEDIUM           20\n",
       "4     ALO    4.0     HARD           20\n",
       "..    ...    ...      ...          ...\n",
       "69    VER    4.0     HARD           19\n",
       "70    ZHO    1.0   MEDIUM            1\n",
       "71    ZHO    2.0     SOFT            6\n",
       "72    ZHO    3.0     HARD            4\n",
       "73    ZHO    4.0     HARD            1\n",
       "\n",
       "[74 rows x 4 columns]"
      ]
     },
     "execution_count": 16,
     "metadata": {},
     "output_type": "execute_result"
    }
   ],
   "source": [
    "stints = stints.rename(columns={\"LapNumber\": \"StintLength\"})\n",
    "stints"
   ]
  },
  {
   "cell_type": "code",
   "execution_count": 18,
   "id": "90fc174e-5689-40fb-9965-b7d14913df47",
   "metadata": {},
   "outputs": [
    {
     "data": {
      "image/png": "[encoded data removed]",
      "text/plain": [
       "<Figure size 500x1000 with 1 Axes>"
      ]
     },
     "metadata": {},
     "output_type": "display_data"
    }
   ],
   "source": [
    "fig, ax = plt.subplots(figsize=(5, 10))\n",
    "\n",
    "for driver in drivers:\n",
    "    driver_stints = stints.loc[stints[\"Driver\"] == driver]\n",
    "\n",
    "    previous_stint_end = 0\n",
    "    for idx, row in driver_stints.iterrows():\n",
    "\n",
    "        plt.barh(\n",
    "            y=driver,\n",
    "            width=row[\"StintLength\"],\n",
    "            left=previous_stint_end,\n",
    "            color=fastf1.plotting.COMPOUND_COLORS[row[\"Compound\"]],\n",
    "            edgecolor=\"black\",\n",
    "            fill=True\n",
    "        )\n",
    "\n",
    "        previous_stint_end += row[\"StintLength\"]\n",
    "\n",
    "plt.title(\"2024 Japan Grand Prix Strategies\")\n",
    "plt.xlabel(\"Lap Number\")\n",
    "plt.grid(False)\n",
    "\n",
    "ax.invert_yaxis()\n",
    "\n",
    "ax.spines['top'].set_visible(False)\n",
    "ax.spines['right'].set_visible(False)\n",
    "ax.spines['left'].set_visible(False)\n",
    "\n",
    "plt.tight_layout()\n",
    "plt.show()"
   ]
  },
  {
   "cell_type": "code",
   "execution_count": 8,
   "id": "2ee3147e-1808-4888-8875-445a7dc14bb0",
   "metadata": {},
   "outputs": [
    {
     "data": {
      "image/png": "[encoded data removed]",
      "text/plain": [
       "<Figure size 640x480 with 1 Axes>"
      ]
     },
     "metadata": {},
     "output_type": "display_data"
    }
   ],
   "source": []
  }
 ],
 "metadata": {
  "kernelspec": {
   "display_name": "Python 3 (ipykernel)",
   "language": "python",
   "name": "python3"
  },
  "language_info": {
   "codemirror_mode": {
    "name": "ipython",
    "version": 3
   },
   "file_extension": ".py",
   "mimetype": "text/x-python",
   "name": "python",
   "nbconvert_exporter": "python",
   "pygments_lexer": "ipython3",
   "version": "3.11.5"
  }
 },
 "nbformat": 4,
 "nbformat_minor": 5
}
